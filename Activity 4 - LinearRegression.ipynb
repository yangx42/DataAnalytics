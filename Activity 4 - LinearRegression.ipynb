{
 "cells": [
  {
   "cell_type": "markdown",
   "metadata": {},
   "source": [
    "# Tristan Josh D. Yangco\n",
    "\n",
    "Date: 02/09/2021\n",
    "\n",
    "Solving Simple Linear Regression on Anime Recommendations (Episodes vs Ratings)\n",
    "\n",
    "#Description: This dataset contains 12,294 anime that is rated by the users. In the anime context, when an anime is highly rated by the viewers, authors will most likely step up on making more episodes otherwise, they will end the anime around 12 to 20 episodes. That is why  in this dataset, we will look into two variables; the episodes and rating to determine and prove the significance of the relationship between two variables.\n",
    "\n",
    "Context:\n",
    "\n",
    "episodes - the number of episodes in a show. If it is a movie, the number of episode is only 1.\n",
    "rating - the average rating out of 10 for the show."
   ]
  },
  {
   "cell_type": "code",
   "execution_count": 3,
   "metadata": {},
   "outputs": [],
   "source": [
    "import numpy as np\n",
    "import matplotlib.pyplot as plt\n",
    "import pandas as pd\n",
    "import csv\n",
    "from sklearn.linear_model import LinearRegression"
   ]
  },
  {
   "cell_type": "code",
   "execution_count": 6,
   "metadata": {},
   "outputs": [
    {
     "data": {
      "text/html": [
       "<div>\n",
       "<style scoped>\n",
       "    .dataframe tbody tr th:only-of-type {\n",
       "        vertical-align: middle;\n",
       "    }\n",
       "\n",
       "    .dataframe tbody tr th {\n",
       "        vertical-align: top;\n",
       "    }\n",
       "\n",
       "    .dataframe thead th {\n",
       "        text-align: right;\n",
       "    }\n",
       "</style>\n",
       "<table border=\"1\" class=\"dataframe\">\n",
       "  <thead>\n",
       "    <tr style=\"text-align: right;\">\n",
       "      <th></th>\n",
       "      <th></th>\n",
       "      <th></th>\n",
       "      <th>episodes</th>\n",
       "      <th>rating</th>\n",
       "    </tr>\n",
       "  </thead>\n",
       "  <tbody>\n",
       "    <tr>\n",
       "      <th>32281</th>\n",
       "      <th>Kimi no Na wa.</th>\n",
       "      <th>Movie</th>\n",
       "      <td>1</td>\n",
       "      <td>9.37</td>\n",
       "    </tr>\n",
       "    <tr>\n",
       "      <th>5114</th>\n",
       "      <th>Fullmetal Alchemist: Brotherhood</th>\n",
       "      <th>TV</th>\n",
       "      <td>64</td>\n",
       "      <td>9.26</td>\n",
       "    </tr>\n",
       "    <tr>\n",
       "      <th>28977</th>\n",
       "      <th>Gintama°</th>\n",
       "      <th>TV</th>\n",
       "      <td>51</td>\n",
       "      <td>9.25</td>\n",
       "    </tr>\n",
       "    <tr>\n",
       "      <th>9253</th>\n",
       "      <th>Steins;Gate</th>\n",
       "      <th>TV</th>\n",
       "      <td>24</td>\n",
       "      <td>9.17</td>\n",
       "    </tr>\n",
       "    <tr>\n",
       "      <th>9969</th>\n",
       "      <th>Gintama&amp;#039;</th>\n",
       "      <th>TV</th>\n",
       "      <td>51</td>\n",
       "      <td>9.16</td>\n",
       "    </tr>\n",
       "  </tbody>\n",
       "</table>\n",
       "</div>"
      ],
      "text/plain": [
       "                                             episodes  rating\n",
       "32281 Kimi no Na wa.                   Movie        1    9.37\n",
       "5114  Fullmetal Alchemist: Brotherhood TV          64    9.26\n",
       "28977 Gintama°                         TV          51    9.25\n",
       "9253  Steins;Gate                      TV          24    9.17\n",
       "9969  Gintama&#039;                    TV          51    9.16"
      ]
     },
     "execution_count": 6,
     "metadata": {},
     "output_type": "execute_result"
    }
   ],
   "source": [
    "anime = pd.read_csv(r'anime.csv', names=['episodes', 'rating'])\n",
    "anime.head()"
   ]
  },
  {
   "cell_type": "code",
   "execution_count": 241,
   "metadata": {},
   "outputs": [],
   "source": [
    "x = pd.DataFrame(anime['rating'])\n",
    "y = pd.DataFrame(anime['episodes'])\n",
    "anime = anime.apply (pd.to_numeric, errors='coerce')"
   ]
  },
  {
   "cell_type": "code",
   "execution_count": 7,
   "metadata": {},
   "outputs": [
    {
     "data": {
      "text/html": [
       "<div>\n",
       "<style scoped>\n",
       "    .dataframe tbody tr th:only-of-type {\n",
       "        vertical-align: middle;\n",
       "    }\n",
       "\n",
       "    .dataframe tbody tr th {\n",
       "        vertical-align: top;\n",
       "    }\n",
       "\n",
       "    .dataframe thead th {\n",
       "        text-align: right;\n",
       "    }\n",
       "</style>\n",
       "<table border=\"1\" class=\"dataframe\">\n",
       "  <thead>\n",
       "    <tr style=\"text-align: right;\">\n",
       "      <th></th>\n",
       "      <th></th>\n",
       "      <th></th>\n",
       "      <th>episodes</th>\n",
       "      <th>rating</th>\n",
       "    </tr>\n",
       "  </thead>\n",
       "  <tbody>\n",
       "    <tr>\n",
       "      <th>32281</th>\n",
       "      <th>Kimi no Na wa.</th>\n",
       "      <th>Movie</th>\n",
       "      <td>1</td>\n",
       "      <td>9.37</td>\n",
       "    </tr>\n",
       "    <tr>\n",
       "      <th>5114</th>\n",
       "      <th>Fullmetal Alchemist: Brotherhood</th>\n",
       "      <th>TV</th>\n",
       "      <td>64</td>\n",
       "      <td>9.26</td>\n",
       "    </tr>\n",
       "    <tr>\n",
       "      <th>28977</th>\n",
       "      <th>Gintama°</th>\n",
       "      <th>TV</th>\n",
       "      <td>51</td>\n",
       "      <td>9.25</td>\n",
       "    </tr>\n",
       "    <tr>\n",
       "      <th>9253</th>\n",
       "      <th>Steins;Gate</th>\n",
       "      <th>TV</th>\n",
       "      <td>24</td>\n",
       "      <td>9.17</td>\n",
       "    </tr>\n",
       "    <tr>\n",
       "      <th>9969</th>\n",
       "      <th>Gintama&amp;#039;</th>\n",
       "      <th>TV</th>\n",
       "      <td>51</td>\n",
       "      <td>9.16</td>\n",
       "    </tr>\n",
       "  </tbody>\n",
       "</table>\n",
       "</div>"
      ],
      "text/plain": [
       "                                             episodes  rating\n",
       "32281 Kimi no Na wa.                   Movie        1    9.37\n",
       "5114  Fullmetal Alchemist: Brotherhood TV          64    9.26\n",
       "28977 Gintama°                         TV          51    9.25\n",
       "9253  Steins;Gate                      TV          24    9.17\n",
       "9969  Gintama&#039;                    TV          51    9.16"
      ]
     },
     "execution_count": 7,
     "metadata": {},
     "output_type": "execute_result"
    }
   ],
   "source": [
    "anime = anime.dropna()\n",
    "anime.head()"
   ]
  },
  {
   "cell_type": "code",
   "execution_count": 262,
   "metadata": {
    "scrolled": true
   },
   "outputs": [],
   "source": [
    "model = LinearRegression().fit(x,y)"
   ]
  },
  {
   "cell_type": "code",
   "execution_count": 263,
   "metadata": {},
   "outputs": [],
   "source": [
    "y_pred = model.predict(x)"
   ]
  },
  {
   "cell_type": "code",
   "execution_count": 264,
   "metadata": {},
   "outputs": [
    {
     "data": {
      "image/png": "[encoded data removed]",
      "text/plain": [
       "<Figure size 432x288 with 1 Axes>"
      ]
     },
     "metadata": {
      "needs_background": "light"
     },
     "output_type": "display_data"
    }
   ],
   "source": [
    "plt.scatter(x,y)\n",
    "plt.xlabel(\"Episodes\")\n",
    "plt.ylabel(\"Rating\")\n",
    "plt.plot(x,y_pred, color=\"red\")\n",
    "plt.show()"
   ]
  },
  {
   "cell_type": "code",
   "execution_count": 265,
   "metadata": {},
   "outputs": [
    {
     "name": "stdout",
     "output_type": "stream",
     "text": [
      "Slope:  [[7.20670872e-06]]\n"
     ]
    }
   ],
   "source": [
    "slope = model.coef_\n",
    "print(\"Slope: \", slope)"
   ]
  },
  {
   "cell_type": "code",
   "execution_count": 266,
   "metadata": {},
   "outputs": [
    {
     "name": "stdout",
     "output_type": "stream",
     "text": [
      "Intercept:  [6.34216649]\n"
     ]
    }
   ],
   "source": [
    "intercept = model.intercept_\n",
    "print(\"Intercept: \", intercept)"
   ]
  },
  {
   "cell_type": "code",
   "execution_count": 267,
   "metadata": {},
   "outputs": [
    {
     "name": "stdout",
     "output_type": "stream",
     "text": [
      "Coefficient of Determination:  0.15052806021819864\n"
     ]
    }
   ],
   "source": [
    "r_sq = model.score(x,y)\n",
    "print(\"Coefficient of Determination: \", r_sq)"
   ]
  },
  {
   "cell_type": "code",
   "execution_count": 268,
   "metadata": {},
   "outputs": [
    {
     "name": "stdout",
     "output_type": "stream",
     "text": [
      "[[6.34220973]]\n"
     ]
    }
   ],
   "source": [
    "predict = lambda x: slope*x+intercept\n",
    "print(predict(6))"
   ]
  }
 ],
 "metadata": {
  "kernelspec": {
   "display_name": "Python 3",
   "language": "python",
   "name": "python3"
  },
  "language_info": {
   "codemirror_mode": {
    "name": "ipython",
    "version": 3
   },
   "file_extension": ".py",
   "mimetype": "text/x-python",
   "name": "python",
   "nbconvert_exporter": "python",
   "pygments_lexer": "ipython3",
   "version": "3.8.5"
  }
 },
 "nbformat": 4,
 "nbformat_minor": 4
}
